{
 "cells": [
  {
   "cell_type": "code",
   "execution_count": 1,
   "metadata": {},
   "outputs": [],
   "source": [
    "import datetime\n",
    "import dateutil\n",
    "import numpy as np\n",
    "import matplotlib.pyplot as plt\n",
    "import pandas as pd\n",
    "import pwlf\n",
    "import plotly.graph_objects as go\n",
    "from ipywidgets import interact, interactive, fixed, interact_manual"
   ]
  },
  {
   "cell_type": "code",
   "execution_count": 2,
   "metadata": {},
   "outputs": [],
   "source": [
    "def createAmortized(principal, payment, apr, beginningDate, oneTimePayment=0, periodicPayment=0, extraPayment_df = pd.DataFrame()):\n",
    "    output = {\n",
    "        'ppmt': [],\n",
    "        'ipmt': [],\n",
    "        'principal': []\n",
    "    }\n",
    "    dateArray = []\n",
    "    currentDate = beginningDate\n",
    "    currentPrincipal = principal\n",
    "    while(currentPrincipal > 0.01):\n",
    "        previousDate = currentDate\n",
    "        currentDate += dateutil.relativedelta.relativedelta(months=1)\n",
    "        interestPaid = currentPrincipal * (apr/12)\n",
    "        \n",
    "        #Calculate additional payment if any\n",
    "        additionalPayment = 0\n",
    "        if(currentDate > datetime.date.today()):\n",
    "            additionalPayment += periodicPayment\n",
    "        if(previousDate <= datetime.date.today() <= currentDate):\n",
    "            additionalPayment += oneTimePayment\n",
    "        if not extraPayment_df.empty:\n",
    "            additionalPayment += extraPayment_df[(previousDate < extraPayment_df['date']) & (extraPayment_df['date'] <= currentDate)]['amount'].sum()\n",
    "        \n",
    "        principalPaid = (payment + additionalPayment) - interestPaid\n",
    "        if(currentPrincipal - principalPaid < 0.00):\n",
    "            principalPaid = currentPrincipal\n",
    "            currentPrincipal = 0.00\n",
    "        else:\n",
    "            currentPrincipal -= principalPaid\n",
    "        dateArray.append(currentDate)\n",
    "        output['ppmt'].append(principalPaid)\n",
    "        output['ipmt'].append(interestPaid)\n",
    "        output['principal'].append(currentPrincipal)\n",
    "    return pd.DataFrame(output, index=dateArray)\n",
    "\n",
    "def totalInterest(df):\n",
    "    return np.sum(df['ipmt'])\n",
    "\n",
    "def endDate(df):\n",
    "    return df.index.max()\n",
    "\n",
    "def periodicPaymentReport(principal, payment, apr, beginningDate, start, end, step):\n",
    "    periodicPaymentArray = []\n",
    "    interestArray = []\n",
    "    endDateArray = []\n",
    "    currentPeriodicPayment = start\n",
    "    while(currentPeriodicPayment <= end):\n",
    "        periodicPaymentArray.append(currentPeriodicPayment)\n",
    "        mod_df = createAmortized(principal, payment, apr, beginningDate, periodicPayment = currentPeriodicPayment)\n",
    "        interestArray.append(totalInterest(mod_df))\n",
    "        endDateArray.append(endDate(mod_df))\n",
    "        currentPeriodicPayment += step\n",
    "    output = pd.DataFrame({'totalInterest': interestArray, 'endDate': endDateArray}, index=periodicPaymentArray)\n",
    "    original_df = createAmortized(principal, payment, apr, beginningDate)\n",
    "    originalInterest = totalInterest(original_df)\n",
    "    originalEndDate = endDate(original_df)\n",
    "    output['interest_difference'] = originalInterest - output['totalInterest']\n",
    "    output['endDate_difference'] = originalEndDate - output['endDate']\n",
    "    return output\n",
    "\n",
    "def oneTimePaymentReport(principal, payment, apr, beginningDate, start, end, step):\n",
    "    oneTimeArray = []\n",
    "    interestArray = []\n",
    "    endDateArray = []\n",
    "    currentOneTimePayment = start\n",
    "    while(currentOneTimePayment <= end):\n",
    "        oneTimeArray.append(currentOneTimePayment)\n",
    "        mod_df = createAmortized(principal, payment, apr, beginningDate, oneTimePayment = currentOneTimePayment)\n",
    "        interestArray.append(totalInterest(mod_df))\n",
    "        endDateArray.append(endDate(mod_df))\n",
    "        currentOneTimePayment += step\n",
    "    output = pd.DataFrame({'totalInterest': interestArray, 'endDate': endDateArray}, index=oneTimeArray)\n",
    "    original_df = createAmortized(principal, payment, apr, beginningDate)\n",
    "    originalInterest = totalInterest(original_df)\n",
    "    originalEndDate = endDate(original_df)\n",
    "    output['interest_difference'] = originalInterest - output['totalInterest']\n",
    "    output['endDate_difference'] = originalEndDate - output['endDate']\n",
    "    return output\n",
    "\n",
    "def report(principal, payment, apr, beginningDate, oneTimePayment=0, periodicPayment=0, extraPayment_df = pd.DataFrame()):\n",
    "    additionalPayment = (oneTimePayment != 0 or periodicPayment != 0 or not extraPayment_df.empty)\n",
    "    df = createAmortized(principal=principal, payment=payment, apr=apr, beginningDate=beginningDate)\n",
    "    df_modified = None\n",
    "    plt_items = ['ppmt', 'ipmt']\n",
    "    plt2_items = ['principal']\n",
    "    if additionalPayment:\n",
    "        df_modified = createAmortized(principal=principal, payment=payment, apr=apr, beginningDate=beginningDate, oneTimePayment=oneTimePayment, periodicPayment=periodicPayment, extraPayment_df = extraPayment_df)\n",
    "        df['ppmt_mod'] = df_modified['ppmt']\n",
    "        df['ipmt_mod'] = df_modified['ipmt']\n",
    "        df['principal_mod'] = df_modified['principal']\n",
    "        plt_items.append('ppmt_mod')\n",
    "        plt_items.append('ipmt_mod')\n",
    "        plt2_items.append('principal_mod')\n",
    "        \n",
    "    df[plt_items].plot()\n",
    "    plt.figure()\n",
    "    df[plt2_items].plot()\n",
    "    \n",
    "    totalInterest_orig = totalInterest(df)\n",
    "    endDate_orig = endDate(df)\n",
    "    if additionalPayment:\n",
    "        \n",
    "        print(\"Original Data:\")\n",
    "    print(\"Total Interest: %d\" % totalInterest_orig)\n",
    "    print(\"End Date: %s\" % endDate_orig)\n",
    "    \n",
    "    if additionalPayment:\n",
    "        totalInterest_mod = totalInterest(df_modified)\n",
    "        endDate_mod = endDate(df_modified)\n",
    "        print(\"\")\n",
    "        print(\"Modified Data:\")\n",
    "        print(\"Total Interest: %d\" % totalInterest_mod)\n",
    "        print(\"End Date: %s\" % endDate_mod)\n",
    "        print(\"\")\n",
    "        print(\"Difference in total interest: %d\" % (totalInterest_orig - totalInterest_mod))\n",
    "        print(\"Difference in end date: %s\" % (endDate_orig - endDate_mod))"
   ]
  },
  {
   "cell_type": "markdown",
   "metadata": {},
   "source": [
    "## House Loan\n",
    "\n",
    "<div>Beginning Principal: 188000.00</div>\n",
    "<div>APR: 3.75%</div>\n",
    "<div>Beginning Date: Fri Oct 27 2017</div>\n",
    "<div>Payment: $870.66</div>"
   ]
  },
  {
   "cell_type": "code",
   "execution_count": 3,
   "metadata": {},
   "outputs": [
    {
     "name": "stdout",
     "output_type": "stream",
     "text": [
      "Original Data:\n",
      "Total Interest: 125435\n",
      "End Date: 2047-10-27\n",
      "\n",
      "Modified Data:\n",
      "Total Interest: 26032\n",
      "End Date: 2028-09-27\n",
      "\n",
      "Difference in total interest: 99402\n",
      "Difference in end date: 6969 days, 0:00:00\n"
     ]
    },
    {
     "data": {
      "image/png": "[encoded data removed]",
      "text/plain": [
       "<Figure size 432x288 with 1 Axes>"
      ]
     },
     "metadata": {
      "needs_background": "light"
     },
     "output_type": "display_data"
    },
    {
     "data": {
      "text/plain": [
       "<Figure size 432x288 with 0 Axes>"
      ]
     },
     "metadata": {},
     "output_type": "display_data"
    },
    {
     "data": {
      "image/png": "[encoded data removed]",
      "text/plain": [
       "<Figure size 432x288 with 1 Axes>"
      ]
     },
     "metadata": {
      "needs_background": "light"
     },
     "output_type": "display_data"
    }
   ],
   "source": [
    "extraPayment_df = pd.DataFrame({\n",
    "    'date': [datetime.date(2019, 4, 27)],\n",
    "    'amount': [100000.00]\n",
    "})\n",
    "\n",
    "#createAmortized(principal=188000.00, payment=870.66, apr=0.0375, beginningDate=datetime.date(2017, 10, 27), extraPayment_df=extraPayment_df)\n",
    "report(principal=188000.00, payment=870.66, apr=0.0375, beginningDate=datetime.date(2017, 10, 27), extraPayment_df=extraPayment_df)"
   ]
  },
  {
   "cell_type": "code",
   "execution_count": 4,
   "metadata": {},
   "outputs": [
    {
     "name": "stdout",
     "output_type": "stream",
     "text": [
      "Total Interest: 125435\n",
      "End Date: 2047-10-27\n"
     ]
    },
    {
     "data": {
      "image/png": "[encoded data removed]",
      "text/plain": [
       "<Figure size 432x288 with 1 Axes>"
      ]
     },
     "metadata": {
      "needs_background": "light"
     },
     "output_type": "display_data"
    },
    {
     "data": {
      "text/plain": [
       "<Figure size 432x288 with 0 Axes>"
      ]
     },
     "metadata": {},
     "output_type": "display_data"
    },
    {
     "data": {
      "image/png": "[encoded data removed]",
      "text/plain": [
       "<Figure size 432x288 with 1 Axes>"
      ]
     },
     "metadata": {
      "needs_background": "light"
     },
     "output_type": "display_data"
    }
   ],
   "source": [
    "report(principal=188000.00, payment=870.66, apr=0.0375, beginningDate=datetime.date(2017, 10, 27))"
   ]
  },
  {
   "cell_type": "code",
   "execution_count": 5,
   "metadata": {},
   "outputs": [
    {
     "name": "stdout",
     "output_type": "stream",
     "text": [
      "Original Data:\n",
      "Total Interest: 125435\n",
      "End Date: 2047-10-27\n",
      "\n",
      "Modified Data:\n",
      "Total Interest: 83995\n",
      "End Date: 2038-03-27\n",
      "\n",
      "Difference in total interest: 41440\n",
      "Difference in end date: 3501 days, 0:00:00\n"
     ]
    },
    {
     "data": {
      "image/png": "[encoded data removed]",
      "text/plain": [
       "<Figure size 432x288 with 1 Axes>"
      ]
     },
     "metadata": {
      "needs_background": "light"
     },
     "output_type": "display_data"
    },
    {
     "data": {
      "text/plain": [
       "<Figure size 432x288 with 0 Axes>"
      ]
     },
     "metadata": {},
     "output_type": "display_data"
    },
    {
     "data": {
      "image/png": "[encoded data removed]",
      "text/plain": [
       "<Figure size 432x288 with 1 Axes>"
      ]
     },
     "metadata": {
      "needs_background": "light"
     },
     "output_type": "display_data"
    }
   ],
   "source": [
    "report(principal=188000.00, payment=870.66, apr=0.0375, beginningDate=datetime.date(2017, 10, 27), periodicPayment=270.00)"
   ]
  },
  {
   "cell_type": "code",
   "execution_count": 6,
   "metadata": {},
   "outputs": [
    {
     "name": "stdout",
     "output_type": "stream",
     "text": [
      "Original Data:\n",
      "Total Interest: 125435\n",
      "End Date: 2047-10-27\n",
      "\n",
      "Modified Data:\n",
      "Total Interest: 120096\n",
      "End Date: 2047-01-27\n",
      "\n",
      "Difference in total interest: 5339\n",
      "Difference in end date: 273 days, 0:00:00\n"
     ]
    },
    {
     "data": {
      "image/png": "[encoded data removed]",
      "text/plain": [
       "<Figure size 432x288 with 1 Axes>"
      ]
     },
     "metadata": {
      "needs_background": "light"
     },
     "output_type": "display_data"
    },
    {
     "data": {
      "text/plain": [
       "<Figure size 432x288 with 0 Axes>"
      ]
     },
     "metadata": {},
     "output_type": "display_data"
    },
    {
     "data": {
      "image/png": "[encoded data removed]",
      "text/plain": [
       "<Figure size 432x288 with 1 Axes>"
      ]
     },
     "metadata": {
      "needs_background": "light"
     },
     "output_type": "display_data"
    }
   ],
   "source": [
    "report(principal=188000.00, payment=870.66, apr=0.0375, beginningDate=datetime.date(2017, 10, 27), oneTimePayment=3000.00)"
   ]
  },
  {
   "cell_type": "code",
   "execution_count": 59,
   "metadata": {},
   "outputs": [
    {
     "name": "stdout",
     "output_type": "stream",
     "text": [
      "[   0.          421.8287606  1571.89935594 5000.        ]\n"
     ]
    },
    {
     "data": {
      "image/png": "[encoded data removed]",
      "text/plain": [
       "<Figure size 432x288 with 1 Axes>"
      ]
     },
     "metadata": {
      "needs_background": "light"
     },
     "output_type": "display_data"
    },
    {
     "data": {
      "application/vnd.plotly.v1+json": {
       "config": {
        "plotlyServerURL": "https://plot.ly"
       },
       "data": [
        {
         "name": "totalInterest",
         "type": "scatter",
         "x": [
          0,
          50,
          100,
          150,
          200,
          250,
          300,
          350,
          400,
          450,
          500,
          550,
          600,
          650,
          700,
          750,
          800,
          850,
          900,
          950,
          1000,
          1050,
          1100,
          1150,
          1200,
          1250,
          1300,
          1350,
          1400,
          1450,
          1500,
          1550,
          1600,
          1650,
          1700,
          1750,
          1800,
          1850,
          1900,
          1950,
          2000,
          2050,
          2100,
          2150,
          2200,
          2250,
          2300,
          2350,
          2400,
          2450,
          2500,
          2550,
          2600,
          2650,
          2700,
          2750,
          2800,
          2850,
          2900,
          2950,
          3000,
          3050,
          3100,
          3150,
          3200,
          3250,
          3300,
          3350,
          3400,
          3450,
          3500,
          3550,
          3600,
          3650,
          3700,
          3750,
          3800,
          3850,
          3900,
          3950,
          4000,
          4050,
          4100,
          4150,
          4200,
          4250,
          4300,
          4350,
          4400,
          4450,
          4500,
          4550,
          4600,
          4650,
          4700,
          4750,
          4800,
          4850,
          4900,
          4950,
          5000
         ],
         "y": [
          125435.81542751871,
          114180.48010192337,
          105101.49609509231,
          97607.71902467168,
          91307.92128335232,
          85932.54690548423,
          81287.39120886939,
          77231.38009968823,
          73657.68360309128,
          70482.8230531631,
          67643.92856489854,
          65088.93610649089,
          62777.05211810137,
          60674.35353057302,
          58754.2924450797,
          56993.59260515833,
          55372.71347400779,
          53875.21968676678,
          52488.665479516305,
          51199.95296760237,
          49999.294663653855,
          48877.61924968269,
          47828.36718713549,
          46843.929435494414,
          45918.41696331554,
          45046.558572163725,
          44224.18753560746,
          43447.4720668861,
          42711.841357214966,
          42014.03612873159,
          41352.70550091021,
          40723.7841237775,
          40125.01394038847,
          39554.15599382437,
          39010.29974655617,
          38491.03019444318,
          37993.76070064585,
          37518.44439336134,
          37062.9983657875,
          36626.42204435716,
          36206.80534454921,
          35805.1125587637,
          35418.13800613905,
          35045.33173012494,
          34687.43759488151,
          34342.808399874586,
          34010.360886970906,
          33689.555982687925,
          33379.85688354717,
          33080.72904716267,
          32791.64018336262,
          32512.06024534469,
          32241.461420864285,
          31979.318123456338,
          31725.10698368967,
          31479.72823683097,
          31242.103728321257,
          31011.186907103274,
          30786.46157699555,
          30568.057265290034,
          30357.633723199513,
          30152.193182795287,
          29951.226532912457,
          29758.14783687011,
          29569.226246308044,
          29384.22567704467,
          29206.482475046745,
          29031.337985114955,
          28861.951446818828,
          28696.443273293655,
          28534.593764711848,
          28377.866112029933,
          28223.37439007922,
          28074.575245486358,
          27927.262625473177,
          27785.543743760754,
          27645.232097641703,
          27509.748985941584,
          27376.260740589245,
          27246.172643226844,
          27119.33077870116,
          26993.80066210639,
          26873.428709931257,
          26753.05675775612,
          26637.545289052687,
          26523.467330498042,
          26410.675510971596,
          26302.716175340793,
          26194.75683970999,
          26089.803057025965,
          25987.787519948528,
          25885.77198287109,
          25787.48592727093,
          25691.23990900058,
          25594.99389073024,
          25502.210527062816,
          25411.560290780853,
          25320.910054498894,
          25232.46960071469,
          25147.241950838594,
          25062.01430096249
         ]
        },
        {
         "name": "ipmt_mod",
         "type": "scatter",
         "x": [
          0,
          50,
          100,
          150,
          200,
          250,
          300,
          350,
          400,
          450,
          500,
          550,
          600,
          650,
          700,
          750,
          800,
          850,
          900,
          950,
          1000,
          1050,
          1100,
          1150,
          1200,
          1250,
          1300,
          1350,
          1400,
          1450,
          1500,
          1550,
          1600,
          1650,
          1700,
          1750,
          1800,
          1850,
          1900,
          1950,
          2000,
          2050,
          2100,
          2150,
          2200,
          2250,
          2300,
          2350,
          2400,
          2450,
          2500,
          2550,
          2600,
          2650,
          2700,
          2750,
          2800,
          2850,
          2900,
          2950,
          3000,
          3050,
          3100,
          3150,
          3200,
          3250,
          3300,
          3350,
          3400,
          3450,
          3500,
          3550,
          3600,
          3650,
          3700,
          3750,
          3800,
          3850,
          3900,
          3950,
          4000,
          4050,
          4100,
          4150,
          4200,
          4250,
          4300,
          4350,
          4400,
          4450,
          4500,
          4550,
          4600,
          4650,
          4700,
          4750,
          4800,
          4850,
          4900,
          4950,
          5000
         ],
         "y": [
          119788.88572142327,
          113501.18282093963,
          107213.47992045598,
          100925.77701997233,
          94638.0741194887,
          88350.37121900504,
          82062.6683185214,
          75774.96541803775,
          69487.26251755412,
          66020.37832177001,
          64739.233111134745,
          63458.08790049948,
          62176.94268986423,
          60895.79747922895,
          59614.652268593694,
          58333.50705795843,
          57052.36184732317,
          55771.2166366879,
          54490.071426052644,
          53208.92621541737,
          51927.781004782104,
          50646.635794146845,
          49365.49058351158,
          48084.3453728763,
          46803.20016224106,
          45522.054951605794,
          44240.90974097053,
          42959.76453033525,
          41678.61931970001,
          40397.474109064744,
          39116.32889842948,
          37835.1836877942,
          37160.15326790403,
          36957.47940736452,
          36754.80554682501,
          36552.13168628549,
          36349.45782574601,
          36146.7839652065,
          35944.11010466699,
          35741.43624412748,
          35538.76238358796,
          35336.08852304848,
          35133.414662508934,
          34930.740801969456,
          34728.06694142992,
          34525.39308089044,
          34322.719220350904,
          34120.045359811425,
          33917.37149927191,
          33714.697638732374,
          33512.02377819292,
          33309.34991765344,
          33106.6760571139,
          32904.00219657442,
          32701.328336034854,
          32498.654475495376,
          32295.980614955897,
          32093.306754416357,
          31890.63289387688,
          31687.959033337338,
          31485.28517279786,
          31282.61131225835,
          31079.93745171884,
          30877.263591179333,
          30674.589730639884,
          30471.91587010031,
          30269.242009560803,
          30066.568149021296,
          29863.894288481788,
          29661.22042794233,
          29458.546567402766,
          29255.872706863316,
          29053.19884632381,
          28850.524985784235,
          28647.851125244786,
          28445.17726470522,
          28242.50340416577,
          28039.829543626263,
          27837.15568308675,
          27634.48182254724,
          27431.807962007675,
          27229.134101468226,
          27026.46024092871,
          26823.786380389203,
          26621.112519849696,
          26418.438659310246,
          26215.76479877074,
          26013.090938231166,
          25810.417077691658,
          25607.74321715215,
          25405.0693566127,
          25202.395496073186,
          24999.72163553362,
          24797.04777499412,
          24594.373914454656,
          24391.70005391515,
          24189.02619337564,
          23986.352332836075,
          23783.678472296568,
          23581.00461175712,
          23378.33075121761
         ]
        }
       ],
       "layout": {
        "template": {
         "data": {
          "bar": [
           {
            "error_x": {
             "color": "#2a3f5f"
            },
            "error_y": {
             "color": "#2a3f5f"
            },
            "marker": {
             "line": {
              "color": "#E5ECF6",
              "width": 0.5
             }
            },
            "type": "bar"
           }
          ],
          "barpolar": [
           {
            "marker": {
             "line": {
              "color": "#E5ECF6",
              "width": 0.5
             }
            },
            "type": "barpolar"
           }
          ],
          "carpet": [
           {
            "aaxis": {
             "endlinecolor": "#2a3f5f",
             "gridcolor": "white",
             "linecolor": "white",
             "minorgridcolor": "white",
             "startlinecolor": "#2a3f5f"
            },
            "baxis": {
             "endlinecolor": "#2a3f5f",
             "gridcolor": "white",
             "linecolor": "white",
             "minorgridcolor": "white",
             "startlinecolor": "#2a3f5f"
            },
            "type": "carpet"
           }
          ],
          "choropleth": [
           {
            "colorbar": {
             "outlinewidth": 0,
             "ticks": ""
            },
            "type": "choropleth"
           }
          ],
          "contour": [
           {
            "colorbar": {
             "outlinewidth": 0,
             "ticks": ""
            },
            "colorscale": [
             [
              0,
              "#0d0887"
             ],
             [
              0.1111111111111111,
              "#46039f"
             ],
             [
              0.2222222222222222,
              "#7201a8"
             ],
             [
              0.3333333333333333,
              "#9c179e"
             ],
             [
              0.4444444444444444,
              "#bd3786"
             ],
             [
              0.5555555555555556,
              "#d8576b"
             ],
             [
              0.6666666666666666,
              "#ed7953"
             ],
             [
              0.7777777777777778,
              "#fb9f3a"
             ],
             [
              0.8888888888888888,
              "#fdca26"
             ],
             [
              1,
              "#f0f921"
             ]
            ],
            "type": "contour"
           }
          ],
          "contourcarpet": [
           {
            "colorbar": {
             "outlinewidth": 0,
             "ticks": ""
            },
            "type": "contourcarpet"
           }
          ],
          "heatmap": [
           {
            "colorbar": {
             "outlinewidth": 0,
             "ticks": ""
            },
            "colorscale": [
             [
              0,
              "#0d0887"
             ],
             [
              0.1111111111111111,
              "#46039f"
             ],
             [
              0.2222222222222222,
              "#7201a8"
             ],
             [
              0.3333333333333333,
              "#9c179e"
             ],
             [
              0.4444444444444444,
              "#bd3786"
             ],
             [
              0.5555555555555556,
              "#d8576b"
             ],
             [
              0.6666666666666666,
              "#ed7953"
             ],
             [
              0.7777777777777778,
              "#fb9f3a"
             ],
             [
              0.8888888888888888,
              "#fdca26"
             ],
             [
              1,
              "#f0f921"
             ]
            ],
            "type": "heatmap"
           }
          ],
          "heatmapgl": [
           {
            "colorbar": {
             "outlinewidth": 0,
             "ticks": ""
            },
            "colorscale": [
             [
              0,
              "#0d0887"
             ],
             [
              0.1111111111111111,
              "#46039f"
             ],
             [
              0.2222222222222222,
              "#7201a8"
             ],
             [
              0.3333333333333333,
              "#9c179e"
             ],
             [
              0.4444444444444444,
              "#bd3786"
             ],
             [
              0.5555555555555556,
              "#d8576b"
             ],
             [
              0.6666666666666666,
              "#ed7953"
             ],
             [
              0.7777777777777778,
              "#fb9f3a"
             ],
             [
              0.8888888888888888,
              "#fdca26"
             ],
             [
              1,
              "#f0f921"
             ]
            ],
            "type": "heatmapgl"
           }
          ],
          "histogram": [
           {
            "marker": {
             "colorbar": {
              "outlinewidth": 0,
              "ticks": ""
             }
            },
            "type": "histogram"
           }
          ],
          "histogram2d": [
           {
            "colorbar": {
             "outlinewidth": 0,
             "ticks": ""
            },
            "colorscale": [
             [
              0,
              "#0d0887"
             ],
             [
              0.1111111111111111,
              "#46039f"
             ],
             [
              0.2222222222222222,
              "#7201a8"
             ],
             [
              0.3333333333333333,
              "#9c179e"
             ],
             [
              0.4444444444444444,
              "#bd3786"
             ],
             [
              0.5555555555555556,
              "#d8576b"
             ],
             [
              0.6666666666666666,
              "#ed7953"
             ],
             [
              0.7777777777777778,
              "#fb9f3a"
             ],
             [
              0.8888888888888888,
              "#fdca26"
             ],
             [
              1,
              "#f0f921"
             ]
            ],
            "type": "histogram2d"
           }
          ],
          "histogram2dcontour": [
           {
            "colorbar": {
             "outlinewidth": 0,
             "ticks": ""
            },
            "colorscale": [
             [
              0,
              "#0d0887"
             ],
             [
              0.1111111111111111,
              "#46039f"
             ],
             [
              0.2222222222222222,
              "#7201a8"
             ],
             [
              0.3333333333333333,
              "#9c179e"
             ],
             [
              0.4444444444444444,
              "#bd3786"
             ],
             [
              0.5555555555555556,
              "#d8576b"
             ],
             [
              0.6666666666666666,
              "#ed7953"
             ],
             [
              0.7777777777777778,
              "#fb9f3a"
             ],
             [
              0.8888888888888888,
              "#fdca26"
             ],
             [
              1,
              "#f0f921"
             ]
            ],
            "type": "histogram2dcontour"
           }
          ],
          "mesh3d": [
           {
            "colorbar": {
             "outlinewidth": 0,
             "ticks": ""
            },
            "type": "mesh3d"
           }
          ],
          "parcoords": [
           {
            "line": {
             "colorbar": {
              "outlinewidth": 0,
              "ticks": ""
             }
            },
            "type": "parcoords"
           }
          ],
          "pie": [
           {
            "automargin": true,
            "type": "pie"
           }
          ],
          "scatter": [
           {
            "marker": {
             "colorbar": {
              "outlinewidth": 0,
              "ticks": ""
             }
            },
            "type": "scatter"
           }
          ],
          "scatter3d": [
           {
            "line": {
             "colorbar": {
              "outlinewidth": 0,
              "ticks": ""
             }
            },
            "marker": {
             "colorbar": {
              "outlinewidth": 0,
              "ticks": ""
             }
            },
            "type": "scatter3d"
           }
          ],
          "scattercarpet": [
           {
            "marker": {
             "colorbar": {
              "outlinewidth": 0,
              "ticks": ""
             }
            },
            "type": "scattercarpet"
           }
          ],
          "scattergeo": [
           {
            "marker": {
             "colorbar": {
              "outlinewidth": 0,
              "ticks": ""
             }
            },
            "type": "scattergeo"
           }
          ],
          "scattergl": [
           {
            "marker": {
             "colorbar": {
              "outlinewidth": 0,
              "ticks": ""
             }
            },
            "type": "scattergl"
           }
          ],
          "scattermapbox": [
           {
            "marker": {
             "colorbar": {
              "outlinewidth": 0,
              "ticks": ""
             }
            },
            "type": "scattermapbox"
           }
          ],
          "scatterpolar": [
           {
            "marker": {
             "colorbar": {
              "outlinewidth": 0,
              "ticks": ""
             }
            },
            "type": "scatterpolar"
           }
          ],
          "scatterpolargl": [
           {
            "marker": {
             "colorbar": {
              "outlinewidth": 0,
              "ticks": ""
             }
            },
            "type": "scatterpolargl"
           }
          ],
          "scatterternary": [
           {
            "marker": {
             "colorbar": {
              "outlinewidth": 0,
              "ticks": ""
             }
            },
            "type": "scatterternary"
           }
          ],
          "surface": [
           {
            "colorbar": {
             "outlinewidth": 0,
             "ticks": ""
            },
            "colorscale": [
             [
              0,
              "#0d0887"
             ],
             [
              0.1111111111111111,
              "#46039f"
             ],
             [
              0.2222222222222222,
              "#7201a8"
             ],
             [
              0.3333333333333333,
              "#9c179e"
             ],
             [
              0.4444444444444444,
              "#bd3786"
             ],
             [
              0.5555555555555556,
              "#d8576b"
             ],
             [
              0.6666666666666666,
              "#ed7953"
             ],
             [
              0.7777777777777778,
              "#fb9f3a"
             ],
             [
              0.8888888888888888,
              "#fdca26"
             ],
             [
              1,
              "#f0f921"
             ]
            ],
            "type": "surface"
           }
          ],
          "table": [
           {
            "cells": {
             "fill": {
              "color": "#EBF0F8"
             },
             "line": {
              "color": "white"
             }
            },
            "header": {
             "fill": {
              "color": "#C8D4E3"
             },
             "line": {
              "color": "white"
             }
            },
            "type": "table"
           }
          ]
         },
         "layout": {
          "annotationdefaults": {
           "arrowcolor": "#2a3f5f",
           "arrowhead": 0,
           "arrowwidth": 1
          },
          "coloraxis": {
           "colorbar": {
            "outlinewidth": 0,
            "ticks": ""
           }
          },
          "colorscale": {
           "diverging": [
            [
             0,
             "#8e0152"
            ],
            [
             0.1,
             "#c51b7d"
            ],
            [
             0.2,
             "#de77ae"
            ],
            [
             0.3,
             "#f1b6da"
            ],
            [
             0.4,
             "#fde0ef"
            ],
            [
             0.5,
             "#f7f7f7"
            ],
            [
             0.6,
             "#e6f5d0"
            ],
            [
             0.7,
             "#b8e186"
            ],
            [
             0.8,
             "#7fbc41"
            ],
            [
             0.9,
             "#4d9221"
            ],
            [
             1,
             "#276419"
            ]
           ],
           "sequential": [
            [
             0,
             "#0d0887"
            ],
            [
             0.1111111111111111,
             "#46039f"
            ],
            [
             0.2222222222222222,
             "#7201a8"
            ],
            [
             0.3333333333333333,
             "#9c179e"
            ],
            [
             0.4444444444444444,
             "#bd3786"
            ],
            [
             0.5555555555555556,
             "#d8576b"
            ],
            [
             0.6666666666666666,
             "#ed7953"
            ],
            [
             0.7777777777777778,
             "#fb9f3a"
            ],
            [
             0.8888888888888888,
             "#fdca26"
            ],
            [
             1,
             "#f0f921"
            ]
           ],
           "sequentialminus": [
            [
             0,
             "#0d0887"
            ],
            [
             0.1111111111111111,
             "#46039f"
            ],
            [
             0.2222222222222222,
             "#7201a8"
            ],
            [
             0.3333333333333333,
             "#9c179e"
            ],
            [
             0.4444444444444444,
             "#bd3786"
            ],
            [
             0.5555555555555556,
             "#d8576b"
            ],
            [
             0.6666666666666666,
             "#ed7953"
            ],
            [
             0.7777777777777778,
             "#fb9f3a"
            ],
            [
             0.8888888888888888,
             "#fdca26"
            ],
            [
             1,
             "#f0f921"
            ]
           ]
          },
          "colorway": [
           "#636efa",
           "#EF553B",
           "#00cc96",
           "#ab63fa",
           "#FFA15A",
           "#19d3f3",
           "#FF6692",
           "#B6E880",
           "#FF97FF",
           "#FECB52"
          ],
          "font": {
           "color": "#2a3f5f"
          },
          "geo": {
           "bgcolor": "white",
           "lakecolor": "white",
           "landcolor": "#E5ECF6",
           "showlakes": true,
           "showland": true,
           "subunitcolor": "white"
          },
          "hoverlabel": {
           "align": "left"
          },
          "hovermode": "closest",
          "mapbox": {
           "style": "light"
          },
          "paper_bgcolor": "white",
          "plot_bgcolor": "#E5ECF6",
          "polar": {
           "angularaxis": {
            "gridcolor": "white",
            "linecolor": "white",
            "ticks": ""
           },
           "bgcolor": "#E5ECF6",
           "radialaxis": {
            "gridcolor": "white",
            "linecolor": "white",
            "ticks": ""
           }
          },
          "scene": {
           "xaxis": {
            "backgroundcolor": "#E5ECF6",
            "gridcolor": "white",
            "gridwidth": 2,
            "linecolor": "white",
            "showbackground": true,
            "ticks": "",
            "zerolinecolor": "white"
           },
           "yaxis": {
            "backgroundcolor": "#E5ECF6",
            "gridcolor": "white",
            "gridwidth": 2,
            "linecolor": "white",
            "showbackground": true,
            "ticks": "",
            "zerolinecolor": "white"
           },
           "zaxis": {
            "backgroundcolor": "#E5ECF6",
            "gridcolor": "white",
            "gridwidth": 2,
            "linecolor": "white",
            "showbackground": true,
            "ticks": "",
            "zerolinecolor": "white"
           }
          },
          "shapedefaults": {
           "line": {
            "color": "#2a3f5f"
           }
          },
          "ternary": {
           "aaxis": {
            "gridcolor": "white",
            "linecolor": "white",
            "ticks": ""
           },
           "baxis": {
            "gridcolor": "white",
            "linecolor": "white",
            "ticks": ""
           },
           "bgcolor": "#E5ECF6",
           "caxis": {
            "gridcolor": "white",
            "linecolor": "white",
            "ticks": ""
           }
          },
          "title": {
           "x": 0.05
          },
          "xaxis": {
           "automargin": true,
           "gridcolor": "white",
           "linecolor": "white",
           "ticks": "",
           "title": {
            "standoff": 15
           },
           "zerolinecolor": "white",
           "zerolinewidth": 2
          },
          "yaxis": {
           "automargin": true,
           "gridcolor": "white",
           "linecolor": "white",
           "ticks": "",
           "title": {
            "standoff": 15
           },
           "zerolinecolor": "white",
           "zerolinewidth": 2
          }
         }
        }
       }
      },
      "text/html": [
       "<div>\n",
       "        \n",
       "        \n",
       "            <div id=\"3a02d2aa-939b-4791-acb9-0765727a5525\" class=\"plotly-graph-div\" style=\"height:525px; width:100%;\"></div>\n",
       "            <script type=\"text/javascript\">\n",
       "                require([\"plotly\"], function(Plotly) {\n",
       "                    window.PLOTLYENV=window.PLOTLYENV || {};\n",
       "                    \n",
       "                if (document.getElementById(\"3a02d2aa-939b-4791-acb9-0765727a5525\")) {\n",
       "                    Plotly.newPlot(\n",
       "                        '3a02d2aa-939b-4791-acb9-0765727a5525',\n",
       "                        [{\"name\": \"totalInterest\", \"type\": \"scatter\", \"x\": [0, 50, 100, 150, 200, 250, 300, 350, 400, 450, 500, 550, 600, 650, 700, 750, 800, 850, 900, 950, 1000, 1050, 1100, 1150, 1200, 1250, 1300, 1350, 1400, 1450, 1500, 1550, 1600, 1650, 1700, 1750, 1800, 1850, 1900, 1950, 2000, 2050, 2100, 2150, 2200, 2250, 2300, 2350, 2400, 2450, 2500, 2550, 2600, 2650, 2700, 2750, 2800, 2850, 2900, 2950, 3000, 3050, 3100, 3150, 3200, 3250, 3300, 3350, 3400, 3450, 3500, 3550, 3600, 3650, 3700, 3750, 3800, 3850, 3900, 3950, 4000, 4050, 4100, 4150, 4200, 4250, 4300, 4350, 4400, 4450, 4500, 4550, 4600, 4650, 4700, 4750, 4800, 4850, 4900, 4950, 5000], \"y\": [125435.81542751871, 114180.48010192337, 105101.49609509231, 97607.71902467168, 91307.92128335232, 85932.54690548423, 81287.39120886939, 77231.38009968823, 73657.68360309128, 70482.8230531631, 67643.92856489854, 65088.93610649089, 62777.05211810137, 60674.35353057302, 58754.2924450797, 56993.59260515833, 55372.71347400779, 53875.21968676678, 52488.665479516305, 51199.95296760237, 49999.294663653855, 48877.61924968269, 47828.36718713549, 46843.929435494414, 45918.41696331554, 45046.558572163725, 44224.18753560746, 43447.4720668861, 42711.841357214966, 42014.03612873159, 41352.70550091021, 40723.7841237775, 40125.01394038847, 39554.15599382437, 39010.29974655617, 38491.03019444318, 37993.76070064585, 37518.44439336134, 37062.9983657875, 36626.42204435716, 36206.80534454921, 35805.1125587637, 35418.13800613905, 35045.33173012494, 34687.43759488151, 34342.808399874586, 34010.360886970906, 33689.555982687925, 33379.85688354717, 33080.72904716267, 32791.64018336262, 32512.06024534469, 32241.461420864285, 31979.318123456338, 31725.10698368967, 31479.72823683097, 31242.103728321257, 31011.186907103274, 30786.46157699555, 30568.057265290034, 30357.633723199513, 30152.193182795287, 29951.226532912457, 29758.14783687011, 29569.226246308044, 29384.22567704467, 29206.482475046745, 29031.337985114955, 28861.951446818828, 28696.443273293655, 28534.593764711848, 28377.866112029933, 28223.37439007922, 28074.575245486358, 27927.262625473177, 27785.543743760754, 27645.232097641703, 27509.748985941584, 27376.260740589245, 27246.172643226844, 27119.33077870116, 26993.80066210639, 26873.428709931257, 26753.05675775612, 26637.545289052687, 26523.467330498042, 26410.675510971596, 26302.716175340793, 26194.75683970999, 26089.803057025965, 25987.787519948528, 25885.77198287109, 25787.48592727093, 25691.23990900058, 25594.99389073024, 25502.210527062816, 25411.560290780853, 25320.910054498894, 25232.46960071469, 25147.241950838594, 25062.01430096249]}, {\"name\": \"ipmt_mod\", \"type\": \"scatter\", \"x\": [0, 50, 100, 150, 200, 250, 300, 350, 400, 450, 500, 550, 600, 650, 700, 750, 800, 850, 900, 950, 1000, 1050, 1100, 1150, 1200, 1250, 1300, 1350, 1400, 1450, 1500, 1550, 1600, 1650, 1700, 1750, 1800, 1850, 1900, 1950, 2000, 2050, 2100, 2150, 2200, 2250, 2300, 2350, 2400, 2450, 2500, 2550, 2600, 2650, 2700, 2750, 2800, 2850, 2900, 2950, 3000, 3050, 3100, 3150, 3200, 3250, 3300, 3350, 3400, 3450, 3500, 3550, 3600, 3650, 3700, 3750, 3800, 3850, 3900, 3950, 4000, 4050, 4100, 4150, 4200, 4250, 4300, 4350, 4400, 4450, 4500, 4550, 4600, 4650, 4700, 4750, 4800, 4850, 4900, 4950, 5000], \"y\": [119788.88572142327, 113501.18282093963, 107213.47992045598, 100925.77701997233, 94638.0741194887, 88350.37121900504, 82062.6683185214, 75774.96541803775, 69487.26251755412, 66020.37832177001, 64739.233111134745, 63458.08790049948, 62176.94268986423, 60895.79747922895, 59614.652268593694, 58333.50705795843, 57052.36184732317, 55771.2166366879, 54490.071426052644, 53208.92621541737, 51927.781004782104, 50646.635794146845, 49365.49058351158, 48084.3453728763, 46803.20016224106, 45522.054951605794, 44240.90974097053, 42959.76453033525, 41678.61931970001, 40397.474109064744, 39116.32889842948, 37835.1836877942, 37160.15326790403, 36957.47940736452, 36754.80554682501, 36552.13168628549, 36349.45782574601, 36146.7839652065, 35944.11010466699, 35741.43624412748, 35538.76238358796, 35336.08852304848, 35133.414662508934, 34930.740801969456, 34728.06694142992, 34525.39308089044, 34322.719220350904, 34120.045359811425, 33917.37149927191, 33714.697638732374, 33512.02377819292, 33309.34991765344, 33106.6760571139, 32904.00219657442, 32701.328336034854, 32498.654475495376, 32295.980614955897, 32093.306754416357, 31890.63289387688, 31687.959033337338, 31485.28517279786, 31282.61131225835, 31079.93745171884, 30877.263591179333, 30674.589730639884, 30471.91587010031, 30269.242009560803, 30066.568149021296, 29863.894288481788, 29661.22042794233, 29458.546567402766, 29255.872706863316, 29053.19884632381, 28850.524985784235, 28647.851125244786, 28445.17726470522, 28242.50340416577, 28039.829543626263, 27837.15568308675, 27634.48182254724, 27431.807962007675, 27229.134101468226, 27026.46024092871, 26823.786380389203, 26621.112519849696, 26418.438659310246, 26215.76479877074, 26013.090938231166, 25810.417077691658, 25607.74321715215, 25405.0693566127, 25202.395496073186, 24999.72163553362, 24797.04777499412, 24594.373914454656, 24391.70005391515, 24189.02619337564, 23986.352332836075, 23783.678472296568, 23581.00461175712, 23378.33075121761]}],\n",
       "                        {\"template\": {\"data\": {\"bar\": [{\"error_x\": {\"color\": \"#2a3f5f\"}, \"error_y\": {\"color\": \"#2a3f5f\"}, \"marker\": {\"line\": {\"color\": \"#E5ECF6\", \"width\": 0.5}}, \"type\": \"bar\"}], \"barpolar\": [{\"marker\": {\"line\": {\"color\": \"#E5ECF6\", \"width\": 0.5}}, \"type\": \"barpolar\"}], \"carpet\": [{\"aaxis\": {\"endlinecolor\": \"#2a3f5f\", \"gridcolor\": \"white\", \"linecolor\": \"white\", \"minorgridcolor\": \"white\", \"startlinecolor\": \"#2a3f5f\"}, \"baxis\": {\"endlinecolor\": \"#2a3f5f\", \"gridcolor\": \"white\", \"linecolor\": \"white\", \"minorgridcolor\": \"white\", \"startlinecolor\": \"#2a3f5f\"}, \"type\": \"carpet\"}], \"choropleth\": [{\"colorbar\": {\"outlinewidth\": 0, \"ticks\": \"\"}, \"type\": \"choropleth\"}], \"contour\": [{\"colorbar\": {\"outlinewidth\": 0, \"ticks\": \"\"}, \"colorscale\": [[0.0, \"#0d0887\"], [0.1111111111111111, \"#46039f\"], [0.2222222222222222, \"#7201a8\"], [0.3333333333333333, \"#9c179e\"], [0.4444444444444444, \"#bd3786\"], [0.5555555555555556, \"#d8576b\"], [0.6666666666666666, \"#ed7953\"], [0.7777777777777778, \"#fb9f3a\"], [0.8888888888888888, \"#fdca26\"], [1.0, \"#f0f921\"]], \"type\": \"contour\"}], \"contourcarpet\": [{\"colorbar\": {\"outlinewidth\": 0, \"ticks\": \"\"}, \"type\": \"contourcarpet\"}], \"heatmap\": [{\"colorbar\": {\"outlinewidth\": 0, \"ticks\": \"\"}, \"colorscale\": [[0.0, \"#0d0887\"], [0.1111111111111111, \"#46039f\"], [0.2222222222222222, \"#7201a8\"], [0.3333333333333333, \"#9c179e\"], [0.4444444444444444, \"#bd3786\"], [0.5555555555555556, \"#d8576b\"], [0.6666666666666666, \"#ed7953\"], [0.7777777777777778, \"#fb9f3a\"], [0.8888888888888888, \"#fdca26\"], [1.0, \"#f0f921\"]], \"type\": \"heatmap\"}], \"heatmapgl\": [{\"colorbar\": {\"outlinewidth\": 0, \"ticks\": \"\"}, \"colorscale\": [[0.0, \"#0d0887\"], [0.1111111111111111, \"#46039f\"], [0.2222222222222222, \"#7201a8\"], [0.3333333333333333, \"#9c179e\"], [0.4444444444444444, \"#bd3786\"], [0.5555555555555556, \"#d8576b\"], [0.6666666666666666, \"#ed7953\"], [0.7777777777777778, \"#fb9f3a\"], [0.8888888888888888, \"#fdca26\"], [1.0, \"#f0f921\"]], \"type\": \"heatmapgl\"}], \"histogram\": [{\"marker\": {\"colorbar\": {\"outlinewidth\": 0, \"ticks\": \"\"}}, \"type\": \"histogram\"}], \"histogram2d\": [{\"colorbar\": {\"outlinewidth\": 0, \"ticks\": \"\"}, \"colorscale\": [[0.0, \"#0d0887\"], [0.1111111111111111, \"#46039f\"], [0.2222222222222222, \"#7201a8\"], [0.3333333333333333, \"#9c179e\"], [0.4444444444444444, \"#bd3786\"], [0.5555555555555556, \"#d8576b\"], [0.6666666666666666, \"#ed7953\"], [0.7777777777777778, \"#fb9f3a\"], [0.8888888888888888, \"#fdca26\"], [1.0, \"#f0f921\"]], \"type\": \"histogram2d\"}], \"histogram2dcontour\": [{\"colorbar\": {\"outlinewidth\": 0, \"ticks\": \"\"}, \"colorscale\": [[0.0, \"#0d0887\"], [0.1111111111111111, \"#46039f\"], [0.2222222222222222, \"#7201a8\"], [0.3333333333333333, \"#9c179e\"], [0.4444444444444444, \"#bd3786\"], [0.5555555555555556, \"#d8576b\"], [0.6666666666666666, \"#ed7953\"], [0.7777777777777778, \"#fb9f3a\"], [0.8888888888888888, \"#fdca26\"], [1.0, \"#f0f921\"]], \"type\": \"histogram2dcontour\"}], \"mesh3d\": [{\"colorbar\": {\"outlinewidth\": 0, \"ticks\": \"\"}, \"type\": \"mesh3d\"}], \"parcoords\": [{\"line\": {\"colorbar\": {\"outlinewidth\": 0, \"ticks\": \"\"}}, \"type\": \"parcoords\"}], \"pie\": [{\"automargin\": true, \"type\": \"pie\"}], \"scatter\": [{\"marker\": {\"colorbar\": {\"outlinewidth\": 0, \"ticks\": \"\"}}, \"type\": \"scatter\"}], \"scatter3d\": [{\"line\": {\"colorbar\": {\"outlinewidth\": 0, \"ticks\": \"\"}}, \"marker\": {\"colorbar\": {\"outlinewidth\": 0, \"ticks\": \"\"}}, \"type\": \"scatter3d\"}], \"scattercarpet\": [{\"marker\": {\"colorbar\": {\"outlinewidth\": 0, \"ticks\": \"\"}}, \"type\": \"scattercarpet\"}], \"scattergeo\": [{\"marker\": {\"colorbar\": {\"outlinewidth\": 0, \"ticks\": \"\"}}, \"type\": \"scattergeo\"}], \"scattergl\": [{\"marker\": {\"colorbar\": {\"outlinewidth\": 0, \"ticks\": \"\"}}, \"type\": \"scattergl\"}], \"scattermapbox\": [{\"marker\": {\"colorbar\": {\"outlinewidth\": 0, \"ticks\": \"\"}}, \"type\": \"scattermapbox\"}], \"scatterpolar\": [{\"marker\": {\"colorbar\": {\"outlinewidth\": 0, \"ticks\": \"\"}}, \"type\": \"scatterpolar\"}], \"scatterpolargl\": [{\"marker\": {\"colorbar\": {\"outlinewidth\": 0, \"ticks\": \"\"}}, \"type\": \"scatterpolargl\"}], \"scatterternary\": [{\"marker\": {\"colorbar\": {\"outlinewidth\": 0, \"ticks\": \"\"}}, \"type\": \"scatterternary\"}], \"surface\": [{\"colorbar\": {\"outlinewidth\": 0, \"ticks\": \"\"}, \"colorscale\": [[0.0, \"#0d0887\"], [0.1111111111111111, \"#46039f\"], [0.2222222222222222, \"#7201a8\"], [0.3333333333333333, \"#9c179e\"], [0.4444444444444444, \"#bd3786\"], [0.5555555555555556, \"#d8576b\"], [0.6666666666666666, \"#ed7953\"], [0.7777777777777778, \"#fb9f3a\"], [0.8888888888888888, \"#fdca26\"], [1.0, \"#f0f921\"]], \"type\": \"surface\"}], \"table\": [{\"cells\": {\"fill\": {\"color\": \"#EBF0F8\"}, \"line\": {\"color\": \"white\"}}, \"header\": {\"fill\": {\"color\": \"#C8D4E3\"}, \"line\": {\"color\": \"white\"}}, \"type\": \"table\"}]}, \"layout\": {\"annotationdefaults\": {\"arrowcolor\": \"#2a3f5f\", \"arrowhead\": 0, \"arrowwidth\": 1}, \"coloraxis\": {\"colorbar\": {\"outlinewidth\": 0, \"ticks\": \"\"}}, \"colorscale\": {\"diverging\": [[0, \"#8e0152\"], [0.1, \"#c51b7d\"], [0.2, \"#de77ae\"], [0.3, \"#f1b6da\"], [0.4, \"#fde0ef\"], [0.5, \"#f7f7f7\"], [0.6, \"#e6f5d0\"], [0.7, \"#b8e186\"], [0.8, \"#7fbc41\"], [0.9, \"#4d9221\"], [1, \"#276419\"]], \"sequential\": [[0.0, \"#0d0887\"], [0.1111111111111111, \"#46039f\"], [0.2222222222222222, \"#7201a8\"], [0.3333333333333333, \"#9c179e\"], [0.4444444444444444, \"#bd3786\"], [0.5555555555555556, \"#d8576b\"], [0.6666666666666666, \"#ed7953\"], [0.7777777777777778, \"#fb9f3a\"], [0.8888888888888888, \"#fdca26\"], [1.0, \"#f0f921\"]], \"sequentialminus\": [[0.0, \"#0d0887\"], [0.1111111111111111, \"#46039f\"], [0.2222222222222222, \"#7201a8\"], [0.3333333333333333, \"#9c179e\"], [0.4444444444444444, \"#bd3786\"], [0.5555555555555556, \"#d8576b\"], [0.6666666666666666, \"#ed7953\"], [0.7777777777777778, \"#fb9f3a\"], [0.8888888888888888, \"#fdca26\"], [1.0, \"#f0f921\"]]}, \"colorway\": [\"#636efa\", \"#EF553B\", \"#00cc96\", \"#ab63fa\", \"#FFA15A\", \"#19d3f3\", \"#FF6692\", \"#B6E880\", \"#FF97FF\", \"#FECB52\"], \"font\": {\"color\": \"#2a3f5f\"}, \"geo\": {\"bgcolor\": \"white\", \"lakecolor\": \"white\", \"landcolor\": \"#E5ECF6\", \"showlakes\": true, \"showland\": true, \"subunitcolor\": \"white\"}, \"hoverlabel\": {\"align\": \"left\"}, \"hovermode\": \"closest\", \"mapbox\": {\"style\": \"light\"}, \"paper_bgcolor\": \"white\", \"plot_bgcolor\": \"#E5ECF6\", \"polar\": {\"angularaxis\": {\"gridcolor\": \"white\", \"linecolor\": \"white\", \"ticks\": \"\"}, \"bgcolor\": \"#E5ECF6\", \"radialaxis\": {\"gridcolor\": \"white\", \"linecolor\": \"white\", \"ticks\": \"\"}}, \"scene\": {\"xaxis\": {\"backgroundcolor\": \"#E5ECF6\", \"gridcolor\": \"white\", \"gridwidth\": 2, \"linecolor\": \"white\", \"showbackground\": true, \"ticks\": \"\", \"zerolinecolor\": \"white\"}, \"yaxis\": {\"backgroundcolor\": \"#E5ECF6\", \"gridcolor\": \"white\", \"gridwidth\": 2, \"linecolor\": \"white\", \"showbackground\": true, \"ticks\": \"\", \"zerolinecolor\": \"white\"}, \"zaxis\": {\"backgroundcolor\": \"#E5ECF6\", \"gridcolor\": \"white\", \"gridwidth\": 2, \"linecolor\": \"white\", \"showbackground\": true, \"ticks\": \"\", \"zerolinecolor\": \"white\"}}, \"shapedefaults\": {\"line\": {\"color\": \"#2a3f5f\"}}, \"ternary\": {\"aaxis\": {\"gridcolor\": \"white\", \"linecolor\": \"white\", \"ticks\": \"\"}, \"baxis\": {\"gridcolor\": \"white\", \"linecolor\": \"white\", \"ticks\": \"\"}, \"bgcolor\": \"#E5ECF6\", \"caxis\": {\"gridcolor\": \"white\", \"linecolor\": \"white\", \"ticks\": \"\"}}, \"title\": {\"x\": 0.05}, \"xaxis\": {\"automargin\": true, \"gridcolor\": \"white\", \"linecolor\": \"white\", \"ticks\": \"\", \"title\": {\"standoff\": 15}, \"zerolinecolor\": \"white\", \"zerolinewidth\": 2}, \"yaxis\": {\"automargin\": true, \"gridcolor\": \"white\", \"linecolor\": \"white\", \"ticks\": \"\", \"title\": {\"standoff\": 15}, \"zerolinecolor\": \"white\", \"zerolinewidth\": 2}}}},\n",
       "                        {\"responsive\": true}\n",
       "                    ).then(function(){\n",
       "                            \n",
       "var gd = document.getElementById('3a02d2aa-939b-4791-acb9-0765727a5525');\n",
       "var x = new MutationObserver(function (mutations, observer) {{\n",
       "        var display = window.getComputedStyle(gd).display;\n",
       "        if (!display || display === 'none') {{\n",
       "            console.log([gd, 'removed!']);\n",
       "            Plotly.purge(gd);\n",
       "            observer.disconnect();\n",
       "        }}\n",
       "}});\n",
       "\n",
       "// Listen for the removal of the full notebook cells\n",
       "var notebookContainer = gd.closest('#notebook-container');\n",
       "if (notebookContainer) {{\n",
       "    x.observe(notebookContainer, {childList: true});\n",
       "}}\n",
       "\n",
       "// Listen for the clearing of the current output cell\n",
       "var outputEl = gd.closest('.output');\n",
       "if (outputEl) {{\n",
       "    x.observe(outputEl, {childList: true});\n",
       "}}\n",
       "\n",
       "                        })\n",
       "                };\n",
       "                });\n",
       "            </script>\n",
       "        </div>"
      ]
     },
     "metadata": {},
     "output_type": "display_data"
    },
    {
     "name": "stdout",
     "output_type": "stream",
     "text": [
      "      totalInterest     endDate  interest_difference endDate_difference\n",
      "0     125435.815428  2047-10-27             0.000000             0 days\n",
      "50    114180.480102  2045-04-27         11255.335326           913 days\n",
      "100   105101.496095  2043-03-27         20334.319332          1675 days\n",
      "150    97607.719025  2041-06-27         27828.096403          2313 days\n",
      "200    91307.921283  2039-12-27         34127.894144          2861 days\n",
      "250    85932.546905  2038-09-27         39503.268522          3317 days\n",
      "300    81287.391209  2037-07-27         44148.424219          3744 days\n",
      "350    77231.380100  2036-08-27         48204.435328          4078 days\n",
      "400    73657.683603  2035-09-27         51778.131824          4413 days\n",
      "450    70482.823053  2034-11-27         54952.992374          4717 days\n",
      "500    67643.928565  2034-03-27         57791.886863          4962 days\n",
      "550    65088.936106  2033-07-27         60346.879321          5205 days\n",
      "600    62777.052118  2032-12-27         62658.763309          5417 days\n",
      "650    60674.353531  2032-06-27         64761.461897          5600 days\n",
      "700    58754.292445  2031-12-27         66681.522982          5783 days\n",
      "750    56993.592605  2031-06-27         68442.222822          5966 days\n",
      "800    55372.713474  2031-01-27         70063.101954          6117 days\n",
      "850    53875.219687  2030-08-27         71560.595741          6270 days\n",
      "900    52488.665480  2030-04-27         72947.149948          6392 days\n",
      "950    51199.952968  2029-12-27         74235.862460          6513 days\n",
      "1000   49999.294664  2029-08-27         75436.520764          6635 days\n",
      "1050   48877.619250  2029-05-27         76558.196178          6727 days\n",
      "1100   47828.367187  2029-01-27         77607.448240          6847 days\n",
      "1150   46843.929435  2028-10-27         78591.885992          6939 days\n",
      "1200   45918.416963  2028-07-27         79517.398464          7031 days\n",
      "1250   45046.558572  2028-04-27         80389.256855          7122 days\n",
      "1300   44224.187536  2028-02-27         81211.627892          7182 days\n",
      "1350   43447.472067  2027-11-27         81988.343361          7274 days\n",
      "1400   42711.841357  2027-09-27         82723.974070          7335 days\n",
      "1450   42014.036129  2027-06-27         83421.779299          7427 days\n",
      "...             ...         ...                  ...                ...\n",
      "3550   28377.866112  2023-09-27         97057.949315          8796 days\n",
      "3600   28223.374390  2023-09-27         97212.441037          8796 days\n",
      "3650   28074.575245  2023-08-27         97361.240182          8827 days\n",
      "3700   27927.262625  2023-08-27         97508.552802          8827 days\n",
      "3750   27785.543744  2023-07-27         97650.271684          8858 days\n",
      "3800   27645.232098  2023-07-27         97790.583330          8858 days\n",
      "3850   27509.748986  2023-06-27         97926.066442          8888 days\n",
      "3900   27376.260741  2023-06-27         98059.554687          8888 days\n",
      "3950   27246.172643  2023-05-27         98189.642784          8919 days\n",
      "4000   27119.330779  2023-05-27         98316.484649          8919 days\n",
      "4050   26993.800662  2023-04-27         98442.014765          8949 days\n",
      "4100   26873.428710  2023-04-27         98562.386718          8949 days\n",
      "4150   26753.056758  2023-04-27         98682.758670          8949 days\n",
      "4200   26637.545289  2023-03-27         98798.270138          8980 days\n",
      "4250   26523.467330  2023-03-27         98912.348097          8980 days\n",
      "4300   26410.675511  2023-02-27         99025.139917          9008 days\n",
      "4350   26302.716175  2023-02-27         99133.099252          9008 days\n",
      "4400   26194.756840  2023-02-27         99241.058588          9008 days\n",
      "4450   26089.803057  2023-01-27         99346.012370          9039 days\n",
      "4500   25987.787520  2023-01-27         99448.027908          9039 days\n",
      "4550   25885.771983  2023-01-27         99550.043445          9039 days\n",
      "4600   25787.485927  2022-12-27         99648.329500          9070 days\n",
      "4650   25691.239909  2022-12-27         99744.575519          9070 days\n",
      "4700   25594.993891  2022-12-27         99840.821537          9070 days\n",
      "4750   25502.210527  2022-11-27         99933.604900          9100 days\n",
      "4800   25411.560291  2022-11-27        100024.255137          9100 days\n",
      "4850   25320.910054  2022-11-27        100114.905373          9100 days\n",
      "4900   25232.469601  2022-10-27        100203.345827          9131 days\n",
      "4950   25147.241951  2022-10-27        100288.573477          9131 days\n",
      "5000   25062.014301  2022-10-27        100373.801127          9131 days\n",
      "\n",
      "[101 rows x 4 columns]\n"
     ]
    }
   ],
   "source": [
    "periodic_df = periodicPaymentReport(principal=188000.00, payment=870.66, apr=0.0375, beginningDate=datetime.date(2017, 10, 27), start=0, end=5000, step=50)\n",
    "periodic_df[['totalInterest']].plot()\n",
    "\n",
    "my_pwlf = pwlf.PiecewiseLinFit(periodic_df.index, periodic_df['totalInterest'])\n",
    "breaks = my_pwlf.fit(3)\n",
    "print(breaks)\n",
    "\n",
    "x_hat = periodic_df.index\n",
    "y_hat = my_pwlf.predict(periodic_df.index)\n",
    "\n",
    "plt.plot(x_hat, y_hat, '-')\n",
    "plt.show()\n",
    "\n",
    "fig = go.Figure()\n",
    "fig.add_trace(go.Scatter(\n",
    "    x=periodic_df.index,\n",
    "    y=periodic_df['totalInterest'],\n",
    "    name='totalInterest'))\n",
    "fig.add_trace(go.Scatter(\n",
    "    x=x_hat,\n",
    "    y=y_hat,\n",
    "    name='ipmt_mod'))\n",
    "fig.show()\n",
    "\n",
    "print(periodic_df)"
   ]
  },
  {
   "cell_type": "code",
   "execution_count": 7,
   "metadata": {},
   "outputs": [
    {
     "data": {
      "text/html": [
       "<div>\n",
       "<style scoped>\n",
       "    .dataframe tbody tr th:only-of-type {\n",
       "        vertical-align: middle;\n",
       "    }\n",
       "\n",
       "    .dataframe tbody tr th {\n",
       "        vertical-align: top;\n",
       "    }\n",
       "\n",
       "    .dataframe thead th {\n",
       "        text-align: right;\n",
       "    }\n",
       "</style>\n",
       "<table border=\"1\" class=\"dataframe\">\n",
       "  <thead>\n",
       "    <tr style=\"text-align: right;\">\n",
       "      <th></th>\n",
       "      <th>totalInterest</th>\n",
       "      <th>endDate</th>\n",
       "      <th>interest_difference</th>\n",
       "      <th>endDate_difference</th>\n",
       "    </tr>\n",
       "  </thead>\n",
       "  <tbody>\n",
       "    <tr>\n",
       "      <th>0</th>\n",
       "      <td>125435.815428</td>\n",
       "      <td>2047-10-27</td>\n",
       "      <td>0.000000</td>\n",
       "      <td>0 days</td>\n",
       "    </tr>\n",
       "    <tr>\n",
       "      <th>1000</th>\n",
       "      <td>123628.251455</td>\n",
       "      <td>2047-07-27</td>\n",
       "      <td>1807.563973</td>\n",
       "      <td>92 days</td>\n",
       "    </tr>\n",
       "    <tr>\n",
       "      <th>2000</th>\n",
       "      <td>121848.515790</td>\n",
       "      <td>2047-04-27</td>\n",
       "      <td>3587.299638</td>\n",
       "      <td>183 days</td>\n",
       "    </tr>\n",
       "    <tr>\n",
       "      <th>3000</th>\n",
       "      <td>120096.106873</td>\n",
       "      <td>2047-01-27</td>\n",
       "      <td>5339.708555</td>\n",
       "      <td>273 days</td>\n",
       "    </tr>\n",
       "    <tr>\n",
       "      <th>4000</th>\n",
       "      <td>118370.530074</td>\n",
       "      <td>2046-10-27</td>\n",
       "      <td>7065.285353</td>\n",
       "      <td>365 days</td>\n",
       "    </tr>\n",
       "    <tr>\n",
       "      <th>5000</th>\n",
       "      <td>116671.297610</td>\n",
       "      <td>2046-07-27</td>\n",
       "      <td>8764.517817</td>\n",
       "      <td>457 days</td>\n",
       "    </tr>\n",
       "    <tr>\n",
       "      <th>6000</th>\n",
       "      <td>114997.928455</td>\n",
       "      <td>2046-04-27</td>\n",
       "      <td>10437.886972</td>\n",
       "      <td>548 days</td>\n",
       "    </tr>\n",
       "    <tr>\n",
       "      <th>7000</th>\n",
       "      <td>113349.948261</td>\n",
       "      <td>2046-01-27</td>\n",
       "      <td>12085.867167</td>\n",
       "      <td>638 days</td>\n",
       "    </tr>\n",
       "    <tr>\n",
       "      <th>8000</th>\n",
       "      <td>111726.889273</td>\n",
       "      <td>2045-10-27</td>\n",
       "      <td>13708.926154</td>\n",
       "      <td>730 days</td>\n",
       "    </tr>\n",
       "    <tr>\n",
       "      <th>9000</th>\n",
       "      <td>110128.290249</td>\n",
       "      <td>2045-07-27</td>\n",
       "      <td>15307.525178</td>\n",
       "      <td>822 days</td>\n",
       "    </tr>\n",
       "    <tr>\n",
       "      <th>10000</th>\n",
       "      <td>108553.696378</td>\n",
       "      <td>2045-04-27</td>\n",
       "      <td>16882.119049</td>\n",
       "      <td>913 days</td>\n",
       "    </tr>\n",
       "  </tbody>\n",
       "</table>\n",
       "</div>"
      ],
      "text/plain": [
       "       totalInterest     endDate  interest_difference endDate_difference\n",
       "0      125435.815428  2047-10-27             0.000000             0 days\n",
       "1000   123628.251455  2047-07-27          1807.563973            92 days\n",
       "2000   121848.515790  2047-04-27          3587.299638           183 days\n",
       "3000   120096.106873  2047-01-27          5339.708555           273 days\n",
       "4000   118370.530074  2046-10-27          7065.285353           365 days\n",
       "5000   116671.297610  2046-07-27          8764.517817           457 days\n",
       "6000   114997.928455  2046-04-27         10437.886972           548 days\n",
       "7000   113349.948261  2046-01-27         12085.867167           638 days\n",
       "8000   111726.889273  2045-10-27         13708.926154           730 days\n",
       "9000   110128.290249  2045-07-27         15307.525178           822 days\n",
       "10000  108553.696378  2045-04-27         16882.119049           913 days"
      ]
     },
     "execution_count": 7,
     "metadata": {},
     "output_type": "execute_result"
    },
    {
     "data": {
      "image/png": "[encoded data removed]",
      "text/plain": [
       "<Figure size 432x288 with 1 Axes>"
      ]
     },
     "metadata": {
      "needs_background": "light"
     },
     "output_type": "display_data"
    }
   ],
   "source": [
    "oneTime_df = oneTimePaymentReport(principal=188000.00, payment=870.66, apr=0.0375, beginningDate=datetime.date(2017, 10, 27), start=0, end=10000, step=1000)\n",
    "oneTime_df[['totalInterest']].plot()\n",
    "oneTime_df"
   ]
  },
  {
   "cell_type": "code",
   "execution_count": 8,
   "metadata": {},
   "outputs": [],
   "source": [
    "extraPayment_df = pd.DataFrame({\n",
    "    'date': [ datetime.date(2019, 4, 27)],\n",
    "    'amount': [ 100000.00 ]\n",
    "})\n",
    "\n",
    "#createAmortized(principal=188000.00, payment=870.66, apr=0.0375, beginningDate=datetime.date(2017, 10, 27), oneTimePayment=3000.00, extraPayment_df=extraPayment_df)"
   ]
  },
  {
   "cell_type": "code",
   "execution_count": 9,
   "metadata": {},
   "outputs": [
    {
     "data": {
      "application/vnd.jupyter.widget-view+json": {
       "model_id": "f18d126b45eb47c2a4b5f299a2620f09",
       "version_major": 2,
       "version_minor": 0
      },
      "text/plain": [
       "interactive(children=(IntSlider(value=500, description='periodicPayment', max=1000, step=50), Output()), _dom_…"
      ]
     },
     "metadata": {},
     "output_type": "display_data"
    }
   ],
   "source": [
    "import plotly.graph_objects as go\n",
    "from ipywidgets import interact, interactive, fixed, interact_manual\n",
    "\n",
    "df = createAmortized(principal=188000.00, payment=870.66, apr=0.0375, beginningDate=datetime.date(2017, 10, 27))\n",
    "\n",
    "@interact(periodicPayment=(0,1000,50))\n",
    "def periodicChange(periodicPayment):\n",
    "    temp = createAmortized(principal=188000.00, payment=870.66, apr=0.0375, beginningDate=datetime.date(2017, 10, 27), periodicPayment=periodicPayment)\n",
    "    df['ppmt_mod'] = temp['ppmt']\n",
    "    df['ipmt_mod'] = temp['ipmt']\n",
    "    df['principal_mod'] = temp['principal']\n",
    "    print(\"{:.2f} - {:.2f} = {:.2f}\".format(df['ipmt'].sum(), df['ipmt_mod'].sum(), df['ipmt'].sum()-df['ipmt_mod'].sum()))\n",
    "    print(\"{}, {}, {}\".format(df.index.max(), temp.index.max(), df.index.max()-temp.index.max()))\n",
    "    #print(df)\n",
    "    fig = go.Figure()\n",
    "    fig.add_trace(go.Scatter(\n",
    "        x=df.index,\n",
    "        y=df['ppmt'],\n",
    "        name='ppmt'))\n",
    "    fig.add_trace(go.Scatter(\n",
    "        x=df.index,\n",
    "        y=df['ipmt'],\n",
    "        name='ipmt'))\n",
    "    fig.add_trace(go.Scatter(\n",
    "        x=df.index,\n",
    "        y=df['ppmt_mod'],\n",
    "        name='ppmt_mod'))\n",
    "    fig.add_trace(go.Scatter(\n",
    "        x=df.index,\n",
    "        y=df['ipmt_mod'],\n",
    "        name='ipmt_mod'))\n",
    "    fig.show()"
   ]
  },
  {
   "cell_type": "code",
   "execution_count": 10,
   "metadata": {},
   "outputs": [
    {
     "data": {
      "application/vnd.jupyter.widget-view+json": {
       "model_id": "c9a3531f11d24e93b02ccd4c7cd13847",
       "version_major": 2,
       "version_minor": 0
      },
      "text/plain": [
       "interactive(children=(IntSlider(value=500, description='periodicPayment', max=1000, step=50), Output()), _dom_…"
      ]
     },
     "metadata": {},
     "output_type": "display_data"
    }
   ],
   "source": [
    "import plotly.graph_objects as go\n",
    "from ipywidgets import interact, interactive, fixed, interact_manual\n",
    "\n",
    "df = createAmortized(principal=188000.00, payment=870.66, apr=0.0375, beginningDate=datetime.date(2017, 10, 27))\n",
    "\n",
    "@interact(periodicPayment=(0,1000,50))\n",
    "def periodicChange(periodicPayment):\n",
    "    temp = createAmortized(principal=188000.00, payment=870.66, apr=0.0375, beginningDate=datetime.date(2017, 10, 27), periodicPayment=periodicPayment)\n",
    "    df['ppmt_mod'] = temp['ppmt']\n",
    "    df['ipmt_mod'] = temp['ipmt']\n",
    "    df['principal_mod'] = temp['principal']\n",
    "    print(\"{:.2f} - {:.2f} = {:.2f}\".format(df['ipmt'].sum(), df['ipmt_mod'].sum(), df['ipmt'].sum()-df['ipmt_mod'].sum()))\n",
    "    print(\"{}, {}, {}\".format(df.index.max(), temp.index.max(), df.index.max()-temp.index.max()))\n",
    "    df[['ppmt','ipmt','ppmt_mod','ipmt_mod']].plot()"
   ]
  },
  {
   "cell_type": "code",
   "execution_count": null,
   "metadata": {},
   "outputs": [],
   "source": []
  }
 ],
 "metadata": {
  "kernelspec": {
   "display_name": "Python 3",
   "language": "python",
   "name": "python3"
  },
  "language_info": {
   "codemirror_mode": {
    "name": "ipython",
    "version": 3
   },
   "file_extension": ".py",
   "mimetype": "text/x-python",
   "name": "python",
   "nbconvert_exporter": "python",
   "pygments_lexer": "ipython3",
   "version": "3.7.4"
  }
 },
 "nbformat": 4,
 "nbformat_minor": 2
}
