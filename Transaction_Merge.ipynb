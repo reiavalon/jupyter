{
 "cells": [
  {
   "cell_type": "code",
   "execution_count": 1,
   "metadata": {},
   "outputs": [],
   "source": [
    "import pandas as pd\n",
    "import datetime"
   ]
  },
  {
   "cell_type": "code",
   "execution_count": 2,
   "metadata": {},
   "outputs": [],
   "source": [
    "transactions = pd.read_excel('C:\\\\Users\\\\reiav\\\\OneDrive\\\\Desktop\\\\Budget_excel.xlsx')\n",
    "transactions['Date_Timestamp'] = transactions['Date'].apply(lambda x: pd.Timestamp(x))\n",
    "new_transactions = pd.read_csv('C:\\\\Users\\\\reiav\\\\Downloads\\\\transactions.csv')\n",
    "new_transactions['Date_Timestamp'] = new_transactions['Date'].apply(lambda x: pd.Timestamp(x))\n",
    "new_transactions_reduced = []"
   ]
  },
  {
   "cell_type": "code",
   "execution_count": 3,
   "metadata": {},
   "outputs": [
    {
     "data": {
      "text/plain": [
       "Month                            int64\n",
       "Year                             int64\n",
       "Date                    datetime64[ns]\n",
       "Description                     object\n",
       "Original Description            object\n",
       "Amount                         float64\n",
       "Transaction Type                object\n",
       "Category                        object\n",
       "Account Name                    object\n",
       "Actual Amount                  float64\n",
       "Labels                         float64\n",
       "Notes                          float64\n",
       "Unnamed: 12                    float64\n",
       "Unnamed: 13                    float64\n",
       "Date_Timestamp          datetime64[ns]\n",
       "dtype: object"
      ]
     },
     "execution_count": 3,
     "metadata": {},
     "output_type": "execute_result"
    }
   ],
   "source": [
    "transactions.dtypes"
   ]
  },
  {
   "cell_type": "code",
   "execution_count": 4,
   "metadata": {
    "scrolled": true
   },
   "outputs": [
    {
     "data": {
      "text/plain": [
       "Date                            object\n",
       "Description                     object\n",
       "Original Description            object\n",
       "Amount                         float64\n",
       "Transaction Type                object\n",
       "Category                        object\n",
       "Account Name                    object\n",
       "Labels                         float64\n",
       "Notes                           object\n",
       "Date_Timestamp          datetime64[ns]\n",
       "dtype: object"
      ]
     },
     "execution_count": 4,
     "metadata": {},
     "output_type": "execute_result"
    }
   ],
   "source": [
    "new_transactions.dtypes"
   ]
  },
  {
   "cell_type": "code",
   "execution_count": 5,
   "metadata": {
    "scrolled": true
   },
   "outputs": [
    {
     "data": {
      "text/html": [
       "<div>\n",
       "<style scoped>\n",
       "    .dataframe tbody tr th:only-of-type {\n",
       "        vertical-align: middle;\n",
       "    }\n",
       "\n",
       "    .dataframe tbody tr th {\n",
       "        vertical-align: top;\n",
       "    }\n",
       "\n",
       "    .dataframe thead th {\n",
       "        text-align: right;\n",
       "    }\n",
       "</style>\n",
       "<table border=\"1\" class=\"dataframe\">\n",
       "  <thead>\n",
       "    <tr style=\"text-align: right;\">\n",
       "      <th></th>\n",
       "      <th>Date</th>\n",
       "      <th>Description</th>\n",
       "      <th>Original Description</th>\n",
       "      <th>Amount</th>\n",
       "      <th>Transaction Type</th>\n",
       "      <th>Category</th>\n",
       "      <th>Account Name</th>\n",
       "      <th>Labels</th>\n",
       "      <th>Notes</th>\n",
       "      <th>Date_Timestamp</th>\n",
       "    </tr>\n",
       "  </thead>\n",
       "  <tbody>\n",
       "  </tbody>\n",
       "</table>\n",
       "</div>"
      ],
      "text/plain": [
       "Empty DataFrame\n",
       "Columns: [Date, Description, Original Description, Amount, Transaction Type, Category, Account Name, Labels, Notes, Date_Timestamp]\n",
       "Index: []"
      ]
     },
     "execution_count": 5,
     "metadata": {},
     "output_type": "execute_result"
    }
   ],
   "source": [
    "year = 2019\n",
    "month = 6\n",
    "\n",
    "def dateFilter(df, year, month):\n",
    "    return df['Date_Timestamp'].apply(lambda x: (x.year >= year) and (x.month >= month))\n",
    "\n",
    "for index, new_transaction in new_transactions[dateFilter(new_transactions, year, month)].iterrows():\n",
    "    contains = False\n",
    "    for index2, transaction in transactions[dateFilter(transactions, year, month)].iterrows():\n",
    "        isEqual = (pd.Timestamp(new_transaction['Date']) == pd.Timestamp(transaction['Date'])) and \\\n",
    "            (new_transaction['Description'] == transaction['Description']) and \\\n",
    "            (new_transaction['Original Description'] == transaction['Original Description']) and \\\n",
    "            ((transaction['Amount'] - 0.01) < new_transaction['Amount'] < (transaction['Amount'] + 0.01)) and \\\n",
    "            (new_transaction['Transaction Type'] == transaction['Transaction Type']) and \\\n",
    "            (new_transaction['Account Name'] == transaction['Account Name'])\n",
    "        if isEqual:\n",
    "            contains = True\n",
    "    if not contains:\n",
    "        new_transactions_reduced.append(new_transaction)\n",
    "new_transactions_reduced = pd.DataFrame(new_transactions_reduced)\n",
    "new_transactions_reduced = new_transactions_reduced[new_transactions_reduced['Original Description'].apply(lambda x: not str(x).strip().startswith('Auth : '))]\n",
    "new_transactions_reduced"
   ]
  },
  {
   "cell_type": "code",
   "execution_count": 6,
   "metadata": {},
   "outputs": [],
   "source": [
    "#new_transactions_reduced.to_csv('C:\\\\Users\\\\reiav\\\\Downloads\\\\transactions_new.csv')"
   ]
  }
 ],
 "metadata": {
  "kernelspec": {
   "display_name": "Python 3",
   "language": "python",
   "name": "python3"
  },
  "language_info": {
   "codemirror_mode": {
    "name": "ipython",
    "version": 3
   },
   "file_extension": ".py",
   "mimetype": "text/x-python",
   "name": "python",
   "nbconvert_exporter": "python",
   "pygments_lexer": "ipython3",
   "version": "3.7.1"
  }
 },
 "nbformat": 4,
 "nbformat_minor": 2
}
